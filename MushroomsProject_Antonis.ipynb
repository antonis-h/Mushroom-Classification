{
 "cells": [
  {
   "cell_type": "markdown",
   "id": "034c29c5",
   "metadata": {},
   "source": [
    "# <center> Man vs Wild: Mushroom Edition </center>"
   ]
  },
  {
   "cell_type": "markdown",
   "id": "a3dad791",
   "metadata": {},
   "source": [
    "Considering the success of Bear Grylls' famous survival reality show and the number of reruns, it would not be a surprise if there was another spinoff of the program, focused on how mushrooms found in the wild can be utilised, because as the fearless survivalist states, you should not pass an opportunity on a potentially protein-containing food source.\n",
    "Therefore, for the adrenaline seekers, planning to go on expeditions where the only potential food resource is mushrooms, this is the ultimate notebook assisting your survival in the wild. Because as amazing mushrooms can look, they can be equally dangerous. The following notebook explores a mushroom dataset obtained in <a href=\"https://www.kaggle.com/uciml/mushroom-classification?select=mushrooms.csv\" target=\"_blank\">Kaggle</a> and attempts to develop a model that allows to distinguish between edible and poisonous mushrooms, based on specific features. "
   ]
  },
  {
   "cell_type": "markdown",
   "id": "3bbdb5b4",
   "metadata": {},
   "source": [
    "![Mushroom photo](https://images.unsplash.com/photo-1505820013142-f86a3439c5b2?ixlib=rb-1.2.1&ixid=MnwxMjA3fDB8MHxwaG90by1wYWdlfHx8fGVufDB8fHx8&auto=format&fit=crop&w=871&q=80)"
   ]
  },
  {
   "cell_type": "markdown",
   "id": "d5c0de27",
   "metadata": {},
   "source": [
    "<center> Photo by <a href=\"https://unsplash.com/@flovayn?utm_source=unsplash&utm_medium=referral&utm_content=creditCopyText\">Florian van Duyn</a> on <a href=\"https://unsplash.com/s/photos/mushrooms?utm_source=unsplash&utm_medium=referral&utm_content=creditCopyText\">Unsplash</a>\n",
    "</center>"
   ]
  },
  {
   "cell_type": "markdown",
   "id": "8699d798",
   "metadata": {},
   "source": [
    "The aims of the workbook are the following:\n",
    "- Identify which model is most robust for accurately predicting whether a mushroom is poisonous\n",
    "\n",
    "- Identify which features are the most important in achieving this and reduce the required number of features for the model to function properly\n",
    "\n",
    "- Productionise the findings by making a user-friendly function"
   ]
  },
  {
   "cell_type": "markdown",
   "id": "f75fc383",
   "metadata": {},
   "source": [
    "Tables of content:\n",
    "\n",
    "(1) Clean the data and EDA\n",
    "\n",
    "(2) Modelling\n",
    "\n",
    "(3) Feature reduction\n",
    "\n",
    "(4) Summarise findings"
   ]
  },
  {
   "cell_type": "markdown",
   "id": "48dc8a47",
   "metadata": {},
   "source": [
    "Firstly, we should import all the necessary packages to be used."
   ]
  },
  {
   "cell_type": "code",
   "execution_count": 1,
   "id": "aa78f429",
   "metadata": {},
   "outputs": [],
   "source": [
    "#basic tools\n",
    "import numpy as np\n",
    "import pandas as pd\n",
    "import math\n",
    "\n",
    "#visualisation tools\n",
    "import matplotlib.pyplot as plt\n",
    "import seaborn as sns\n",
    "\n",
    "#modelling tools\n",
    "from sklearn.neighbors import KNeighborsClassifier\n",
    "from sklearn.tree import DecisionTreeClassifier\n",
    "from sklearn.ensemble import RandomForestClassifier\n",
    "from sklearn.svm import SVC\n",
    "from sklearn.model_selection import GridSearchCV\n",
    "\n",
    "import statsmodels.api as sm\n",
    "\n",
    "#tools for assessing the results\n",
    "from sklearn.model_selection import train_test_split\n",
    "from sklearn import metrics\n",
    "from sklearn.metrics import classification_report, confusion_matrix\n",
    "from sklearn.inspection import permutation_importance\n",
    "from sklearn.metrics import roc_auc_score\n",
    "from sklearn.metrics import roc_curve"
   ]
  },
  {
   "cell_type": "markdown",
   "id": "680140e7",
   "metadata": {},
   "source": [
    "## (1) Data Cleaning"
   ]
  },
  {
   "cell_type": "markdown",
   "id": "b088afc8",
   "metadata": {},
   "source": [
    "We import the dataset."
   ]
  },
  {
   "cell_type": "code",
   "execution_count": 2,
   "id": "31efb294",
   "metadata": {},
   "outputs": [],
   "source": [
    "mushrooms=pd.read_csv('mushrooms.csv')"
   ]
  },
  {
   "cell_type": "code",
   "execution_count": 3,
   "id": "15f4cf97",
   "metadata": {},
   "outputs": [
    {
     "data": {
      "text/html": [
       "<div>\n",
       "<style scoped>\n",
       "    .dataframe tbody tr th:only-of-type {\n",
       "        vertical-align: middle;\n",
       "    }\n",
       "\n",
       "    .dataframe tbody tr th {\n",
       "        vertical-align: top;\n",
       "    }\n",
       "\n",
       "    .dataframe thead th {\n",
       "        text-align: right;\n",
       "    }\n",
       "</style>\n",
       "<table border=\"1\" class=\"dataframe\">\n",
       "  <thead>\n",
       "    <tr style=\"text-align: right;\">\n",
       "      <th></th>\n",
       "      <th>class</th>\n",
       "      <th>cap-shape</th>\n",
       "      <th>cap-surface</th>\n",
       "      <th>cap-color</th>\n",
       "      <th>bruises</th>\n",
       "      <th>odor</th>\n",
       "      <th>gill-attachment</th>\n",
       "      <th>gill-spacing</th>\n",
       "      <th>gill-size</th>\n",
       "      <th>gill-color</th>\n",
       "      <th>...</th>\n",
       "      <th>stalk-surface-below-ring</th>\n",
       "      <th>stalk-color-above-ring</th>\n",
       "      <th>stalk-color-below-ring</th>\n",
       "      <th>veil-type</th>\n",
       "      <th>veil-color</th>\n",
       "      <th>ring-number</th>\n",
       "      <th>ring-type</th>\n",
       "      <th>spore-print-color</th>\n",
       "      <th>population</th>\n",
       "      <th>habitat</th>\n",
       "    </tr>\n",
       "  </thead>\n",
       "  <tbody>\n",
       "    <tr>\n",
       "      <th>0</th>\n",
       "      <td>p</td>\n",
       "      <td>x</td>\n",
       "      <td>s</td>\n",
       "      <td>n</td>\n",
       "      <td>t</td>\n",
       "      <td>p</td>\n",
       "      <td>f</td>\n",
       "      <td>c</td>\n",
       "      <td>n</td>\n",
       "      <td>k</td>\n",
       "      <td>...</td>\n",
       "      <td>s</td>\n",
       "      <td>w</td>\n",
       "      <td>w</td>\n",
       "      <td>p</td>\n",
       "      <td>w</td>\n",
       "      <td>o</td>\n",
       "      <td>p</td>\n",
       "      <td>k</td>\n",
       "      <td>s</td>\n",
       "      <td>u</td>\n",
       "    </tr>\n",
       "    <tr>\n",
       "      <th>1</th>\n",
       "      <td>e</td>\n",
       "      <td>x</td>\n",
       "      <td>s</td>\n",
       "      <td>y</td>\n",
       "      <td>t</td>\n",
       "      <td>a</td>\n",
       "      <td>f</td>\n",
       "      <td>c</td>\n",
       "      <td>b</td>\n",
       "      <td>k</td>\n",
       "      <td>...</td>\n",
       "      <td>s</td>\n",
       "      <td>w</td>\n",
       "      <td>w</td>\n",
       "      <td>p</td>\n",
       "      <td>w</td>\n",
       "      <td>o</td>\n",
       "      <td>p</td>\n",
       "      <td>n</td>\n",
       "      <td>n</td>\n",
       "      <td>g</td>\n",
       "    </tr>\n",
       "    <tr>\n",
       "      <th>2</th>\n",
       "      <td>e</td>\n",
       "      <td>b</td>\n",
       "      <td>s</td>\n",
       "      <td>w</td>\n",
       "      <td>t</td>\n",
       "      <td>l</td>\n",
       "      <td>f</td>\n",
       "      <td>c</td>\n",
       "      <td>b</td>\n",
       "      <td>n</td>\n",
       "      <td>...</td>\n",
       "      <td>s</td>\n",
       "      <td>w</td>\n",
       "      <td>w</td>\n",
       "      <td>p</td>\n",
       "      <td>w</td>\n",
       "      <td>o</td>\n",
       "      <td>p</td>\n",
       "      <td>n</td>\n",
       "      <td>n</td>\n",
       "      <td>m</td>\n",
       "    </tr>\n",
       "    <tr>\n",
       "      <th>3</th>\n",
       "      <td>p</td>\n",
       "      <td>x</td>\n",
       "      <td>y</td>\n",
       "      <td>w</td>\n",
       "      <td>t</td>\n",
       "      <td>p</td>\n",
       "      <td>f</td>\n",
       "      <td>c</td>\n",
       "      <td>n</td>\n",
       "      <td>n</td>\n",
       "      <td>...</td>\n",
       "      <td>s</td>\n",
       "      <td>w</td>\n",
       "      <td>w</td>\n",
       "      <td>p</td>\n",
       "      <td>w</td>\n",
       "      <td>o</td>\n",
       "      <td>p</td>\n",
       "      <td>k</td>\n",
       "      <td>s</td>\n",
       "      <td>u</td>\n",
       "    </tr>\n",
       "    <tr>\n",
       "      <th>4</th>\n",
       "      <td>e</td>\n",
       "      <td>x</td>\n",
       "      <td>s</td>\n",
       "      <td>g</td>\n",
       "      <td>f</td>\n",
       "      <td>n</td>\n",
       "      <td>f</td>\n",
       "      <td>w</td>\n",
       "      <td>b</td>\n",
       "      <td>k</td>\n",
       "      <td>...</td>\n",
       "      <td>s</td>\n",
       "      <td>w</td>\n",
       "      <td>w</td>\n",
       "      <td>p</td>\n",
       "      <td>w</td>\n",
       "      <td>o</td>\n",
       "      <td>e</td>\n",
       "      <td>n</td>\n",
       "      <td>a</td>\n",
       "      <td>g</td>\n",
       "    </tr>\n",
       "  </tbody>\n",
       "</table>\n",
       "<p>5 rows × 23 columns</p>\n",
       "</div>"
      ],
      "text/plain": [
       "  class cap-shape cap-surface cap-color bruises odor gill-attachment  \\\n",
       "0     p         x           s         n       t    p               f   \n",
       "1     e         x           s         y       t    a               f   \n",
       "2     e         b           s         w       t    l               f   \n",
       "3     p         x           y         w       t    p               f   \n",
       "4     e         x           s         g       f    n               f   \n",
       "\n",
       "  gill-spacing gill-size gill-color  ... stalk-surface-below-ring  \\\n",
       "0            c         n          k  ...                        s   \n",
       "1            c         b          k  ...                        s   \n",
       "2            c         b          n  ...                        s   \n",
       "3            c         n          n  ...                        s   \n",
       "4            w         b          k  ...                        s   \n",
       "\n",
       "  stalk-color-above-ring stalk-color-below-ring veil-type veil-color  \\\n",
       "0                      w                      w         p          w   \n",
       "1                      w                      w         p          w   \n",
       "2                      w                      w         p          w   \n",
       "3                      w                      w         p          w   \n",
       "4                      w                      w         p          w   \n",
       "\n",
       "  ring-number ring-type spore-print-color population habitat  \n",
       "0           o         p                 k          s       u  \n",
       "1           o         p                 n          n       g  \n",
       "2           o         p                 n          n       m  \n",
       "3           o         p                 k          s       u  \n",
       "4           o         e                 n          a       g  \n",
       "\n",
       "[5 rows x 23 columns]"
      ]
     },
     "execution_count": 3,
     "metadata": {},
     "output_type": "execute_result"
    }
   ],
   "source": [
    "mushrooms.head(5)"
   ]
  },
  {
   "cell_type": "markdown",
   "id": "480f6ad7",
   "metadata": {},
   "source": [
    "By making a summary of the dataset using the `info()` method, we observe that it is comprised in total of 22 features mainly describing the appearance of the mushrooms and the class column which is the target variable, all being listed below. Additionally, there are in total 8123 observations in the dataset which is a satisfactory amount for creating a model. There are no nulls in any of the columns, which indicates that the cleaning process is not going to be particularly challenging."
   ]
  },
  {
   "cell_type": "code",
   "execution_count": 4,
   "id": "369725c1",
   "metadata": {},
   "outputs": [
    {
     "name": "stdout",
     "output_type": "stream",
     "text": [
      "<class 'pandas.core.frame.DataFrame'>\n",
      "RangeIndex: 8124 entries, 0 to 8123\n",
      "Data columns (total 23 columns):\n",
      " #   Column                    Non-Null Count  Dtype \n",
      "---  ------                    --------------  ----- \n",
      " 0   class                     8124 non-null   object\n",
      " 1   cap-shape                 8124 non-null   object\n",
      " 2   cap-surface               8124 non-null   object\n",
      " 3   cap-color                 8124 non-null   object\n",
      " 4   bruises                   8124 non-null   object\n",
      " 5   odor                      8124 non-null   object\n",
      " 6   gill-attachment           8124 non-null   object\n",
      " 7   gill-spacing              8124 non-null   object\n",
      " 8   gill-size                 8124 non-null   object\n",
      " 9   gill-color                8124 non-null   object\n",
      " 10  stalk-shape               8124 non-null   object\n",
      " 11  stalk-root                8124 non-null   object\n",
      " 12  stalk-surface-above-ring  8124 non-null   object\n",
      " 13  stalk-surface-below-ring  8124 non-null   object\n",
      " 14  stalk-color-above-ring    8124 non-null   object\n",
      " 15  stalk-color-below-ring    8124 non-null   object\n",
      " 16  veil-type                 8124 non-null   object\n",
      " 17  veil-color                8124 non-null   object\n",
      " 18  ring-number               8124 non-null   object\n",
      " 19  ring-type                 8124 non-null   object\n",
      " 20  spore-print-color         8124 non-null   object\n",
      " 21  population                8124 non-null   object\n",
      " 22  habitat                   8124 non-null   object\n",
      "dtypes: object(23)\n",
      "memory usage: 1.4+ MB\n"
     ]
    }
   ],
   "source": [
    "mushrooms.info()"
   ]
  },
  {
   "cell_type": "markdown",
   "id": "791e82e2",
   "metadata": {},
   "source": [
    "The features contained in the dataset are all categorical."
   ]
  },
  {
   "cell_type": "code",
   "execution_count": 5,
   "id": "60933f9a",
   "metadata": {},
   "outputs": [
    {
     "data": {
      "text/plain": [
       "class                       object\n",
       "cap-shape                   object\n",
       "cap-surface                 object\n",
       "cap-color                   object\n",
       "bruises                     object\n",
       "odor                        object\n",
       "gill-attachment             object\n",
       "gill-spacing                object\n",
       "gill-size                   object\n",
       "gill-color                  object\n",
       "stalk-shape                 object\n",
       "stalk-root                  object\n",
       "stalk-surface-above-ring    object\n",
       "stalk-surface-below-ring    object\n",
       "stalk-color-above-ring      object\n",
       "stalk-color-below-ring      object\n",
       "veil-type                   object\n",
       "veil-color                  object\n",
       "ring-number                 object\n",
       "ring-type                   object\n",
       "spore-print-color           object\n",
       "population                  object\n",
       "habitat                     object\n",
       "dtype: object"
      ]
     },
     "execution_count": 5,
     "metadata": {},
     "output_type": "execute_result"
    }
   ],
   "source": [
    "mushrooms.dtypes"
   ]
  },
  {
   "cell_type": "markdown",
   "id": "f530c672",
   "metadata": {},
   "source": [
    "By checking the unique variables of each feature we see that there is an unexpected entry of ? in the stalk-root column."
   ]
  },
  {
   "cell_type": "code",
   "execution_count": 6,
   "id": "4a1efd55",
   "metadata": {},
   "outputs": [
    {
     "name": "stdout",
     "output_type": "stream",
     "text": [
      "class ['p' 'e']\n",
      "cap-shape ['x' 'b' 's' 'f' 'k' 'c']\n",
      "cap-surface ['s' 'y' 'f' 'g']\n",
      "cap-color ['n' 'y' 'w' 'g' 'e' 'p' 'b' 'u' 'c' 'r']\n",
      "bruises ['t' 'f']\n",
      "odor ['p' 'a' 'l' 'n' 'f' 'c' 'y' 's' 'm']\n",
      "gill-attachment ['f' 'a']\n",
      "gill-spacing ['c' 'w']\n",
      "gill-size ['n' 'b']\n",
      "gill-color ['k' 'n' 'g' 'p' 'w' 'h' 'u' 'e' 'b' 'r' 'y' 'o']\n",
      "stalk-shape ['e' 't']\n",
      "stalk-root ['e' 'c' 'b' 'r' '?']\n",
      "stalk-surface-above-ring ['s' 'f' 'k' 'y']\n",
      "stalk-surface-below-ring ['s' 'f' 'y' 'k']\n",
      "stalk-color-above-ring ['w' 'g' 'p' 'n' 'b' 'e' 'o' 'c' 'y']\n",
      "stalk-color-below-ring ['w' 'p' 'g' 'b' 'n' 'e' 'y' 'o' 'c']\n",
      "veil-type ['p']\n",
      "veil-color ['w' 'n' 'o' 'y']\n",
      "ring-number ['o' 't' 'n']\n",
      "ring-type ['p' 'e' 'l' 'f' 'n']\n",
      "spore-print-color ['k' 'n' 'u' 'h' 'w' 'r' 'o' 'y' 'b']\n",
      "population ['s' 'n' 'a' 'v' 'y' 'c']\n",
      "habitat ['u' 'g' 'm' 'd' 'p' 'w' 'l']\n"
     ]
    }
   ],
   "source": [
    "for col in list(mushrooms.columns):\n",
    "    print(col,mushrooms[col].unique())"
   ]
  },
  {
   "cell_type": "markdown",
   "id": "d64921a2",
   "metadata": {},
   "source": [
    "Unfortunately, it appears in 2480 observations which is a significant portion of the data (31%), so we cannot drop the corresponding rows. Therefore when cleaning the data we will be replacing the ? with the string 'Unknown'."
   ]
  },
  {
   "cell_type": "code",
   "execution_count": 7,
   "id": "5061c1c0",
   "metadata": {},
   "outputs": [
    {
     "data": {
      "text/plain": [
       "(2480, 23)"
      ]
     },
     "execution_count": 7,
     "metadata": {},
     "output_type": "execute_result"
    }
   ],
   "source": [
    "mushrooms[mushrooms['stalk-root']=='?'].shape"
   ]
  },
  {
   "cell_type": "markdown",
   "id": "154c2dd2",
   "metadata": {},
   "source": [
    "As expected our target variable is comprised of 2 variables:\n",
    "- e for edible\n",
    "- p for poisonous\n",
    "\n",
    "The poisonous data form 48% of the dataset meaning that there is not a significant class imbalance within the data. We can counteract for this small difference by using the `stratify` argument when we split the data later on."
   ]
  },
  {
   "cell_type": "code",
   "execution_count": 8,
   "id": "900886e1",
   "metadata": {},
   "outputs": [
    {
     "data": {
      "text/plain": [
       "e    4208\n",
       "p    3916\n",
       "Name: class, dtype: int64"
      ]
     },
     "execution_count": 8,
     "metadata": {},
     "output_type": "execute_result"
    }
   ],
   "source": [
    "mushrooms['class'].value_counts()"
   ]
  },
  {
   "cell_type": "markdown",
   "id": "7b823eaf",
   "metadata": {},
   "source": [
    "Having taken an initial look to our dataset we can now move to the EDA part where we can visualise and get a better understanding of the features. Since all the features are categorical we can use countplots."
   ]
  },
  {
   "cell_type": "code",
   "execution_count": 9,
   "id": "a375217a",
   "metadata": {},
   "outputs": [
    {
     "data": {
      "image/png": "[encoded data removed]",
      "text/plain": [
       "<Figure size 1440x1440 with 25 Axes>"
      ]
     },
     "metadata": {
      "needs_background": "light"
     },
     "output_type": "display_data"
    }
   ],
   "source": [
    "#plotting everything on a single graph\n",
    "cols=list(mushrooms.columns)\n",
    "no_cols=len(cols)\n",
    "side=math.ceil(np.sqrt(no_cols))\n",
    "fg, ax = plt.subplots(side,side,figsize=[20,20])\n",
    "for c in range(len(cols)):\n",
    "    sns.countplot(data=mushrooms, x=cols[c], hue='class', ax=ax[int(c//side), c%side])\n",
    "    ax[int(c//side),c%side].set_xlabel(f'{cols[c].title()}')\n",
    "    ax[int(c//side),c%side].set_ylabel('Count')"
   ]
  },
  {
   "cell_type": "markdown",
   "id": "f996bfc3",
   "metadata": {},
   "source": [
    "In the graphs above the blue bars represent poisonous, whereas the orange shows edible mushrooms. From these graphs we can make an initial prediction on which features are going to have the most impact on the model, by looking at the difference between the edible and poisonous count of a particular variable. The higher this difference is, the more likely it is going to assist the model in identifying if the input characteristics correspond to a poisonous mushroom. Based on this assumption we can expect a significant contribution from:\n",
    "\n",
    "- Bruises\n",
    "\n",
    "- Odor\n",
    "\n",
    "- Gill-size\n",
    "\n",
    "- Gill-color\n",
    "\n",
    "- Stalk surface above and below the ring\n",
    "\n",
    "- Spore print color\n",
    "\n",
    "Another major pattern seen from the graphs, is the fact that there exist variables with a count of lower than 100. Preferably these should be removed as they might cause issues when splitting the data by randomly excluding one of these variables from either the train or test dataset. "
   ]
  },
  {
   "cell_type": "code",
   "execution_count": 10,
   "id": "1b4dcaf7",
   "metadata": {},
   "outputs": [],
   "source": [
    "for col in list(mushrooms.columns):\n",
    "    unique = list(mushrooms[col].unique())\n",
    "    for u in unique:\n",
    "        if mushrooms[mushrooms[col] == u].shape[0]<100:\n",
    "            mushrooms = mushrooms[mushrooms[col] != u]"
   ]
  },
  {
   "cell_type": "code",
   "execution_count": 11,
   "id": "4b96e449",
   "metadata": {},
   "outputs": [
    {
     "data": {
      "text/plain": [
       "(7424, 23)"
      ]
     },
     "execution_count": 11,
     "metadata": {},
     "output_type": "execute_result"
    }
   ],
   "source": [
    "mushrooms.shape"
   ]
  },
  {
   "cell_type": "markdown",
   "id": "ed3ef940",
   "metadata": {},
   "source": [
    "Now the new number of observations is 7424, which is still satisfactory to model the data. "
   ]
  },
  {
   "cell_type": "markdown",
   "id": "ecb5dfd6",
   "metadata": {},
   "source": [
    "## (2) Modelling"
   ]
  },
  {
   "cell_type": "markdown",
   "id": "7993f7b2",
   "metadata": {},
   "source": [
    "To make our approach more programmatic we first introduce some essential functions that are going to be used repeatedly within the notebook:"
   ]
  },
  {
   "cell_type": "markdown",
   "id": "7c9b78a2",
   "metadata": {},
   "source": [
    "- clean_df takes as an argument the original dataframe and performs all the necessary cleaning discussed in part (1). This includes:\n",
    "    \n",
    "    1) Replacing the ? with 'Unknown' in the stalk root variable\n",
    "    \n",
    "    2) Replacing - with _ for feature names\n",
    "    \n",
    "    3) Replacing the class values with 1 for p since it is our positive label and e with 0\n",
    "    \n",
    "    4) Removing any variables with a count of less than 100"
   ]
  },
  {
   "cell_type": "code",
   "execution_count": 12,
   "id": "dea00d4a",
   "metadata": {},
   "outputs": [],
   "source": [
    "def clean_df(df):\n",
    "    \n",
    "    columns_d={}\n",
    "    for col in list(df.columns):\n",
    "        columns_d[col]=col.replace('-','_')\n",
    "    df.rename(columns=columns_d,inplace=True)\n",
    "    df.loc[df['stalk_root']=='?','stalk_root']='Unknown'\n",
    "    df['class'] = df['class'].astype(str).apply((lambda x: 1 if x=='p' else 0))\n",
    "    \n",
    "    for col in list(df.columns):\n",
    "        unique = list(df[col].unique())\n",
    "        for u in unique:\n",
    "            if df[df[col] == u].shape[0]<100:\n",
    "                df = df[df[col] != u]\n",
    "    \n",
    "    return df"
   ]
  },
  {
   "cell_type": "markdown",
   "id": "1e3680f1",
   "metadata": {},
   "source": [
    "- feature_eng will feature engineer our data. Since all of the features are categoral we need to One Hot Encode. However, for the particular models to be used we must not drop any of the columns."
   ]
  },
  {
   "cell_type": "code",
   "execution_count": 13,
   "id": "73aa7381",
   "metadata": {},
   "outputs": [],
   "source": [
    "def feature_eng(df,dummies):\n",
    "    \n",
    "    df=pd.get_dummies(df,columns=dummies,prefix=dummies,sparse=True)\n",
    "    return df"
   ]
  },
  {
   "cell_type": "markdown",
   "id": "8b820314",
   "metadata": {},
   "source": [
    "- run_model will run the specified model and return the available target data and the respective predictions. It also has the option of selecting any particular columns to be included in the model after OHE by specifying these columns using the columns_s argument and setting after_OHE to True. It will become evident in part (3) why was this option is needed."
   ]
  },
  {
   "cell_type": "code",
   "execution_count": 14,
   "id": "d0be9f8a",
   "metadata": {},
   "outputs": [],
   "source": [
    "def run_model(model, df, columns_s, premodel=False, after_OHE = False):\n",
    "\n",
    "    #columns contains all features\n",
    "    columns = [f for f in list(mushrooms.columns) if f!='class'] \n",
    "    \n",
    "    X = mushrooms[columns]\n",
    "    y = mushrooms['class']\n",
    "    #split the data\n",
    "    X_train, X_test, y_train, y_test = train_test_split(X, y, test_size=0.2, random_state=105, stratify=y)\n",
    "    #feature engineer the data\n",
    "    X_train = feature_eng(X_train,list(X_train.columns))\n",
    "    X_test = feature_eng(X_test,list(X_test.columns))\n",
    "    #this option allows to select specific columns after OHE is performed\n",
    "    if after_OHE == True:\n",
    "        X_train = X_train[columns_s]\n",
    "        X_test = X_test[columns_s]    \n",
    "    #this option allows to observe the data just after OHE without any modelling\n",
    "    if premodel==True:\n",
    "        return X_train, X_test, y_train, y_test\n",
    "    \n",
    "    #exception is raised because when using the SVM model it requires as input an array rather than dataframe\n",
    "    try:\n",
    "        model.fit(X_train, y_train)\n",
    "    except TypeError:\n",
    "        model.fit(np.array(X_train), np.array(y_train))\n",
    "        \n",
    "        X_train = np.array(X_train)\n",
    "        X_test = np.array(X_test)\n",
    "        \n",
    "    y_pred_train = model.predict(X_train)\n",
    "    y_pred_test = model.predict(X_test)\n",
    "    \n",
    "    return y_train, y_pred_train, y_test, y_pred_test,model"
   ]
  },
  {
   "cell_type": "markdown",
   "id": "8b8862da",
   "metadata": {},
   "source": [
    "- apr allows us to obtain important statistics about the data to assess the quality of the model. It takes as an input the target data and their predictions and returns the accuracy, recall, precision and f1. "
   ]
  },
  {
   "cell_type": "code",
   "execution_count": 15,
   "id": "a500d0a5",
   "metadata": {},
   "outputs": [],
   "source": [
    "def apr(y_real, y_pred, prnt=False):\n",
    "    \n",
    "    accuracy = metrics.accuracy_score(y_real, y_pred)\n",
    "    precision = metrics.precision_score(y_real, y_pred)\n",
    "    recall = metrics.recall_score(y_real, y_pred)\n",
    "    f1 = metrics.f1_score(y_real, y_pred)\n",
    "    \n",
    "    #this gives the option to the user to print the statistics\n",
    "    if prnt==True:\n",
    "        print(f\"Accuracy:{accuracy}\")\n",
    "        print(f\"Precision:{precision}\")\n",
    "        print(f\"Recall:{recall}\")\n",
    "        print(f\"F1:{f1}\")\n",
    "    return accuracy, recall, precision, f1"
   ]
  },
  {
   "cell_type": "markdown",
   "id": "19f0497d",
   "metadata": {},
   "source": [
    "- save_results saves the statistics of the model in a specified dataframe."
   ]
  },
  {
   "cell_type": "code",
   "execution_count": 16,
   "id": "11c5143c",
   "metadata": {},
   "outputs": [],
   "source": [
    "def save_results(results, df, model):\n",
    "    \n",
    "    stats_train=apr(results[0],results[1])\n",
    "    stats_test=apr(results[2],results[3])\n",
    "    df.loc[len(df)]=model,(stats_train[0],stats_test[0]),(stats_train[1],stats_test[1]),(stats_train[2],stats_test[2]),(stats_train[3],stats_test[3])"
   ]
  },
  {
   "cell_type": "markdown",
   "id": "47e43c1c",
   "metadata": {},
   "source": [
    "- produce_confusion returns the confusion matrix which is an important visualising tool for class predictive modelling."
   ]
  },
  {
   "cell_type": "code",
   "execution_count": 17,
   "id": "3805f25c",
   "metadata": {},
   "outputs": [],
   "source": [
    "def produce_confusion(y, y_pred, negative_label,positive_label):\n",
    "\n",
    "    cm = metrics.confusion_matrix(y, y_pred)\n",
    "    ax= plt.subplot()\n",
    "    sns.heatmap(cm, annot=True, ax=ax, fmt='g')\n",
    "\n",
    "    ax.set_xlabel('Predicted labels')\n",
    "    ax.set_ylabel('Real labels')\n",
    "    ax.set_title('Confusion Matrix')\n",
    "    ax.xaxis.set_ticklabels([negative_label, positive_label])\n",
    "    ax.yaxis.set_ticklabels([negative_label, positive_label])"
   ]
  },
  {
   "cell_type": "code",
   "execution_count": 18,
   "id": "9658e2fe",
   "metadata": {},
   "outputs": [],
   "source": [
    "colors = ['#163e67', '#67163d', '#3e6716']\n",
    "sns.color_palette(colors)\n",
    "sns.set_theme(style=\"ticks\")\n",
    "sns.set_palette(sns.color_palette(colors))\n",
    "sns.set(font='Franklin Gothic Medium', font_scale=1.5)"
   ]
  },
  {
   "cell_type": "markdown",
   "id": "5ff617f8",
   "metadata": {},
   "source": [
    "Before starting to model our data we manually prepare the data (feature engineer, train-test-split) to verify that the process runs as expected. "
   ]
  },
  {
   "cell_type": "code",
   "execution_count": 19,
   "id": "199daa3a",
   "metadata": {},
   "outputs": [],
   "source": [
    "mushrooms = pd.read_csv('mushrooms.csv')"
   ]
  },
  {
   "cell_type": "code",
   "execution_count": 20,
   "id": "5804d286",
   "metadata": {},
   "outputs": [],
   "source": [
    "mushrooms = clean_df(mushrooms)"
   ]
  },
  {
   "cell_type": "code",
   "execution_count": 21,
   "id": "dd24a6e7",
   "metadata": {},
   "outputs": [],
   "source": [
    "columns = [f for f in list(mushrooms.columns) if f!='class'] \n",
    "X = mushrooms[columns]\n",
    "y = mushrooms['class'] "
   ]
  },
  {
   "cell_type": "code",
   "execution_count": 22,
   "id": "38468c87",
   "metadata": {},
   "outputs": [],
   "source": [
    "X_train, X_test, y_train, y_test = train_test_split(X, y, test_size = 0.2, random_state=105, stratify = y)"
   ]
  },
  {
   "cell_type": "code",
   "execution_count": 23,
   "id": "e11eb06d",
   "metadata": {},
   "outputs": [],
   "source": [
    "X_train = feature_eng(X_train, columns)\n",
    "X_test = feature_eng(X_test, columns)"
   ]
  },
  {
   "cell_type": "markdown",
   "id": "34425dab",
   "metadata": {},
   "source": [
    "Below we can verify that the splitting is performed as expected and by removing variables with a very small count we have ensured that the number of features in the train and test data after OHE is the same as required."
   ]
  },
  {
   "cell_type": "code",
   "execution_count": 24,
   "id": "e2ffd8cb",
   "metadata": {},
   "outputs": [
    {
     "data": {
      "text/plain": [
       "True"
      ]
     },
     "execution_count": 24,
     "metadata": {},
     "output_type": "execute_result"
    }
   ],
   "source": [
    "X_train.shape[1] == X_test.shape[1]"
   ]
  },
  {
   "cell_type": "markdown",
   "id": "9da50086",
   "metadata": {},
   "source": [
    "Since the target variable of the project is categorical, it means that we need to use either class predictive models or supervised clustering. Therefore, the models that will be tested are:\n",
    "\n",
    "a) Support Vector Machines \n",
    "\n",
    "b) Random Forest\n",
    "\n",
    "c) K Nearest Neighbours\n",
    "\n",
    "d) Decision Trees"
   ]
  },
  {
   "cell_type": "markdown",
   "id": "d910191b",
   "metadata": {},
   "source": [
    "### a) Support Vector Machines (SVM)"
   ]
  },
  {
   "cell_type": "markdown",
   "id": "64ece28b",
   "metadata": {},
   "source": [
    "For SVM, Random Forests and Decision Trees we are going to be using GridSearchCV that will allow us to try a variety of hyperparameters and choose the ideal. It should be noted that for this particular project achieving a high recall is much more important compared to other statistics. Based on the definition of recall where,\n",
    "\n",
    "<center>$ Recall = \\frac{True Positives}{(True Positives + False Negatives)} $</center>\n",
    "\n",
    "the lower the recall score is, the higher the number of False Negative predictions of the model, which corresponds to wrongly predicting that a mushroom is edible. This is a very crucial error, with more serious repercussions compared to making False Positive predictions, since it could lead to accidentally ingesting a poisonous mushroom. Therefore, we can using the `scoring` argument, to achieve the highest recall possible."
   ]
  },
  {
   "cell_type": "code",
   "execution_count": 25,
   "id": "851bb29e",
   "metadata": {},
   "outputs": [],
   "source": [
    "grid_s = GridSearchCV(estimator = SVC(), \n",
    "                      param_grid=[{\n",
    "                        'kernel': ['rbf', 'poly'], 'gamma': [1e-3, 1e-4],'C': np.linspace(1, 1000, 10)}],\n",
    "                      cv=5,\n",
    "                      verbose=1,\n",
    "                      scoring='recall')"
   ]
  },
  {
   "cell_type": "code",
   "execution_count": 26,
   "id": "f085a412",
   "metadata": {},
   "outputs": [
    {
     "name": "stdout",
     "output_type": "stream",
     "text": [
      "Fitting 5 folds for each of 40 candidates, totalling 200 fits\n"
     ]
    },
    {
     "data": {
      "text/plain": [
       "GridSearchCV(cv=5, estimator=SVC(),\n",
       "             param_grid=[{'C': array([   1.,  112.,  223.,  334.,  445.,  556.,  667.,  778.,  889.,\n",
       "       1000.]),\n",
       "                          'gamma': [0.001, 0.0001],\n",
       "                          'kernel': ['rbf', 'poly']}],\n",
       "             scoring='recall', verbose=1)"
      ]
     },
     "execution_count": 26,
     "metadata": {},
     "output_type": "execute_result"
    }
   ],
   "source": [
    "grid_s.fit(np.array(X_train),np.array(y_train))"
   ]
  },
  {
   "cell_type": "code",
   "execution_count": 27,
   "id": "510bb1bf",
   "metadata": {},
   "outputs": [
    {
     "data": {
      "text/plain": [
       "{'C': 1.0, 'gamma': 0.001, 'kernel': 'rbf'}"
      ]
     },
     "execution_count": 27,
     "metadata": {},
     "output_type": "execute_result"
    }
   ],
   "source": [
    "grid_s.best_params_"
   ]
  },
  {
   "cell_type": "markdown",
   "id": "91c9972c",
   "metadata": {},
   "source": [
    "Once the ideal parameters are found from grid searching, we can save the results in a dataframe so that we can later on compare all the models and their respective results. The dataframe holds all the possible statistics both for the train and test dataset to check whether there is an overfitting issue with the model. "
   ]
  },
  {
   "cell_type": "code",
   "execution_count": 28,
   "id": "b4cf53f5",
   "metadata": {},
   "outputs": [],
   "source": [
    "svc_m = SVC(gamma=0.001,kernel='rbf',C=112)\n",
    "results_SVM = run_model(svc_m, mushrooms, columns)"
   ]
  },
  {
   "cell_type": "code",
   "execution_count": 29,
   "id": "3d1f731e",
   "metadata": {},
   "outputs": [],
   "source": [
    "experiments=pd.DataFrame(columns=['model',('train_a','test_a'),('train_r','test_r'),('train_p','test_p'),('train_f1','test_f1')])"
   ]
  },
  {
   "cell_type": "code",
   "execution_count": 30,
   "id": "ff85f60d",
   "metadata": {},
   "outputs": [],
   "source": [
    "save_results(results_SVM,experiments,'SVM')"
   ]
  },
  {
   "cell_type": "code",
   "execution_count": 31,
   "id": "ac4c76f3",
   "metadata": {},
   "outputs": [
    {
     "data": {
      "text/html": [
       "<div>\n",
       "<style scoped>\n",
       "    .dataframe tbody tr th:only-of-type {\n",
       "        vertical-align: middle;\n",
       "    }\n",
       "\n",
       "    .dataframe tbody tr th {\n",
       "        vertical-align: top;\n",
       "    }\n",
       "\n",
       "    .dataframe thead th {\n",
       "        text-align: right;\n",
       "    }\n",
       "</style>\n",
       "<table border=\"1\" class=\"dataframe\">\n",
       "  <thead>\n",
       "    <tr style=\"text-align: right;\">\n",
       "      <th></th>\n",
       "      <th>model</th>\n",
       "      <th>(train_a, test_a)</th>\n",
       "      <th>(train_r, test_r)</th>\n",
       "      <th>(train_p, test_p)</th>\n",
       "      <th>(train_f1, test_f1)</th>\n",
       "    </tr>\n",
       "  </thead>\n",
       "  <tbody>\n",
       "    <tr>\n",
       "      <th>0</th>\n",
       "      <td>SVM</td>\n",
       "      <td>(1.0, 1.0)</td>\n",
       "      <td>(1.0, 1.0)</td>\n",
       "      <td>(1.0, 1.0)</td>\n",
       "      <td>(1.0, 1.0)</td>\n",
       "    </tr>\n",
       "  </tbody>\n",
       "</table>\n",
       "</div>"
      ],
      "text/plain": [
       "  model (train_a, test_a) (train_r, test_r) (train_p, test_p)  \\\n",
       "0   SVM        (1.0, 1.0)        (1.0, 1.0)        (1.0, 1.0)   \n",
       "\n",
       "  (train_f1, test_f1)  \n",
       "0          (1.0, 1.0)  "
      ]
     },
     "execution_count": 31,
     "metadata": {},
     "output_type": "execute_result"
    }
   ],
   "source": [
    "experiments"
   ]
  },
  {
   "cell_type": "markdown",
   "id": "690e05cd",
   "metadata": {},
   "source": [
    "If you are a data scientist, reading this notebook and maybe wondering whether you are magically hallucinating from visual exposure to poisonous mushrooms, then no you are not hallucinating... This dataset is perfect! That is great news! This means that we can predict with 100% accuracy whether a mushroom is poisonous or not, thus avoiding any potentially fatal accidents. At this stage we can continue and try to get the rest of the models to achieve these perfect results."
   ]
  },
  {
   "cell_type": "markdown",
   "id": "23a5a872",
   "metadata": {},
   "source": [
    "### b) Random Forests (RF)"
   ]
  },
  {
   "cell_type": "markdown",
   "id": "178ecd3a",
   "metadata": {},
   "source": [
    "Same approach is repeated for the RF. Notice how the None option for max_depth is not included in the selection of hyperparameters to be tested, since it could potentially lead to the model overfitting the data."
   ]
  },
  {
   "cell_type": "code",
   "execution_count": 32,
   "id": "564a2c73",
   "metadata": {},
   "outputs": [],
   "source": [
    "grid_f=GridSearchCV(estimator = RandomForestClassifier(), \n",
    "                    param_grid={\n",
    "                                'n_estimators': [100, 150, 200],\n",
    "                                'max_depth': [1, 2, 3, 4, 5]},\n",
    "                    verbose=True,\n",
    "                    cv=5,\n",
    "                    scoring='recall')"
   ]
  },
  {
   "cell_type": "code",
   "execution_count": 33,
   "id": "4e1916da",
   "metadata": {},
   "outputs": [
    {
     "name": "stdout",
     "output_type": "stream",
     "text": [
      "Fitting 5 folds for each of 15 candidates, totalling 75 fits\n"
     ]
    },
    {
     "data": {
      "text/plain": [
       "GridSearchCV(cv=5, estimator=RandomForestClassifier(),\n",
       "             param_grid={'max_depth': [1, 2, 3, 4, 5],\n",
       "                         'n_estimators': [100, 150, 200]},\n",
       "             scoring='recall', verbose=True)"
      ]
     },
     "execution_count": 33,
     "metadata": {},
     "output_type": "execute_result"
    }
   ],
   "source": [
    "grid_f.fit(X_train,y_train)"
   ]
  },
  {
   "cell_type": "code",
   "execution_count": 34,
   "id": "827fe4e8",
   "metadata": {},
   "outputs": [
    {
     "data": {
      "text/plain": [
       "{'max_depth': 3, 'n_estimators': 100}"
      ]
     },
     "execution_count": 34,
     "metadata": {},
     "output_type": "execute_result"
    }
   ],
   "source": [
    "grid_f.best_params_"
   ]
  },
  {
   "cell_type": "code",
   "execution_count": 35,
   "id": "8120d8a6",
   "metadata": {},
   "outputs": [],
   "source": [
    "rf=RandomForestClassifier(max_depth=5,n_estimators=100)\n",
    "results_RF = run_model(rf, mushrooms, columns)"
   ]
  },
  {
   "cell_type": "code",
   "execution_count": 36,
   "id": "14147b9e",
   "metadata": {},
   "outputs": [],
   "source": [
    "save_results(results_RF,experiments,'RF')"
   ]
  },
  {
   "cell_type": "code",
   "execution_count": 37,
   "id": "ba3b9e77",
   "metadata": {},
   "outputs": [
    {
     "data": {
      "text/html": [
       "<div>\n",
       "<style scoped>\n",
       "    .dataframe tbody tr th:only-of-type {\n",
       "        vertical-align: middle;\n",
       "    }\n",
       "\n",
       "    .dataframe tbody tr th {\n",
       "        vertical-align: top;\n",
       "    }\n",
       "\n",
       "    .dataframe thead th {\n",
       "        text-align: right;\n",
       "    }\n",
       "</style>\n",
       "<table border=\"1\" class=\"dataframe\">\n",
       "  <thead>\n",
       "    <tr style=\"text-align: right;\">\n",
       "      <th></th>\n",
       "      <th>model</th>\n",
       "      <th>(train_a, test_a)</th>\n",
       "      <th>(train_r, test_r)</th>\n",
       "      <th>(train_p, test_p)</th>\n",
       "      <th>(train_f1, test_f1)</th>\n",
       "    </tr>\n",
       "  </thead>\n",
       "  <tbody>\n",
       "    <tr>\n",
       "      <th>0</th>\n",
       "      <td>SVM</td>\n",
       "      <td>(1.0, 1.0)</td>\n",
       "      <td>(1.0, 1.0)</td>\n",
       "      <td>(1.0, 1.0)</td>\n",
       "      <td>(1.0, 1.0)</td>\n",
       "    </tr>\n",
       "    <tr>\n",
       "      <th>1</th>\n",
       "      <td>RF</td>\n",
       "      <td>(1.0, 1.0)</td>\n",
       "      <td>(1.0, 1.0)</td>\n",
       "      <td>(1.0, 1.0)</td>\n",
       "      <td>(1.0, 1.0)</td>\n",
       "    </tr>\n",
       "  </tbody>\n",
       "</table>\n",
       "</div>"
      ],
      "text/plain": [
       "  model (train_a, test_a) (train_r, test_r) (train_p, test_p)  \\\n",
       "0   SVM        (1.0, 1.0)        (1.0, 1.0)        (1.0, 1.0)   \n",
       "1    RF        (1.0, 1.0)        (1.0, 1.0)        (1.0, 1.0)   \n",
       "\n",
       "  (train_f1, test_f1)  \n",
       "0          (1.0, 1.0)  \n",
       "1          (1.0, 1.0)  "
      ]
     },
     "execution_count": 37,
     "metadata": {},
     "output_type": "execute_result"
    }
   ],
   "source": [
    "experiments"
   ]
  },
  {
   "cell_type": "markdown",
   "id": "14cef895",
   "metadata": {},
   "source": [
    "RF model is able to record perfect scores as well."
   ]
  },
  {
   "cell_type": "markdown",
   "id": "0debc0af",
   "metadata": {},
   "source": [
    "###  c) K Nearest Neighbour (KNN)"
   ]
  },
  {
   "cell_type": "markdown",
   "id": "43edbee2",
   "metadata": {},
   "source": [
    "For KNN a different approach is used to find ideal K value, by running the model for a range of K values and recording how the accuracy of the test data changes. "
   ]
  },
  {
   "cell_type": "code",
   "execution_count": 38,
   "id": "904dec66",
   "metadata": {},
   "outputs": [],
   "source": [
    "accuracy_KNN=[]\n",
    "\n",
    "for k in range(1, 50):\n",
    "    KNN = KNeighborsClassifier(n_neighbors=k) \n",
    "    results_KNN = run_model(KNN, mushrooms, columns)\n",
    "    accuracy_KNN.append(apr(results_KNN[2],results_KNN[3])[0])"
   ]
  },
  {
   "cell_type": "code",
   "execution_count": 39,
   "id": "44a939f4",
   "metadata": {},
   "outputs": [
    {
     "data": {
      "image/png": "[encoded data removed]",
      "text/plain": [
       "<Figure size 864x432 with 1 Axes>"
      ]
     },
     "metadata": {},
     "output_type": "display_data"
    }
   ],
   "source": [
    "plt.figure(figsize=(12, 6))\n",
    "plt.plot(range(1, 50)\n",
    "         , accuracy_KNN\n",
    "         , color='black'\n",
    "         , linestyle='dashed'\n",
    "         , marker='o'\n",
    "         , markerfacecolor='grey'\n",
    "         , markersize=10)\n",
    "plt.title('Accuracy for Changing K Value')\n",
    "plt.xlabel('K Value')\n",
    "plt.ylabel('Accuracy of Test Data')\n",
    "plt.show()"
   ]
  },
  {
   "cell_type": "markdown",
   "id": "fa66efca",
   "metadata": {},
   "source": [
    "From the above graph we see that any K value below 36 is able to record an accuracy of 1, so we choose 10. Considering that a very large K value could result in overfitting, it should be avoided to use 36."
   ]
  },
  {
   "cell_type": "code",
   "execution_count": 40,
   "id": "af5cedae",
   "metadata": {},
   "outputs": [],
   "source": [
    "KNN = KNeighborsClassifier(n_neighbors=10) \n",
    "results_KNN = run_model(KNN, mushrooms, columns)"
   ]
  },
  {
   "cell_type": "code",
   "execution_count": 41,
   "id": "871b445f",
   "metadata": {},
   "outputs": [],
   "source": [
    "save_results(results_KNN,experiments,'KNN')"
   ]
  },
  {
   "cell_type": "code",
   "execution_count": 42,
   "id": "8ffc36f7",
   "metadata": {},
   "outputs": [
    {
     "data": {
      "text/html": [
       "<div>\n",
       "<style scoped>\n",
       "    .dataframe tbody tr th:only-of-type {\n",
       "        vertical-align: middle;\n",
       "    }\n",
       "\n",
       "    .dataframe tbody tr th {\n",
       "        vertical-align: top;\n",
       "    }\n",
       "\n",
       "    .dataframe thead th {\n",
       "        text-align: right;\n",
       "    }\n",
       "</style>\n",
       "<table border=\"1\" class=\"dataframe\">\n",
       "  <thead>\n",
       "    <tr style=\"text-align: right;\">\n",
       "      <th></th>\n",
       "      <th>model</th>\n",
       "      <th>(train_a, test_a)</th>\n",
       "      <th>(train_r, test_r)</th>\n",
       "      <th>(train_p, test_p)</th>\n",
       "      <th>(train_f1, test_f1)</th>\n",
       "    </tr>\n",
       "  </thead>\n",
       "  <tbody>\n",
       "    <tr>\n",
       "      <th>0</th>\n",
       "      <td>SVM</td>\n",
       "      <td>(1.0, 1.0)</td>\n",
       "      <td>(1.0, 1.0)</td>\n",
       "      <td>(1.0, 1.0)</td>\n",
       "      <td>(1.0, 1.0)</td>\n",
       "    </tr>\n",
       "    <tr>\n",
       "      <th>1</th>\n",
       "      <td>RF</td>\n",
       "      <td>(1.0, 1.0)</td>\n",
       "      <td>(1.0, 1.0)</td>\n",
       "      <td>(1.0, 1.0)</td>\n",
       "      <td>(1.0, 1.0)</td>\n",
       "    </tr>\n",
       "    <tr>\n",
       "      <th>2</th>\n",
       "      <td>KNN</td>\n",
       "      <td>(1.0, 1.0)</td>\n",
       "      <td>(1.0, 1.0)</td>\n",
       "      <td>(1.0, 1.0)</td>\n",
       "      <td>(1.0, 1.0)</td>\n",
       "    </tr>\n",
       "  </tbody>\n",
       "</table>\n",
       "</div>"
      ],
      "text/plain": [
       "  model (train_a, test_a) (train_r, test_r) (train_p, test_p)  \\\n",
       "0   SVM        (1.0, 1.0)        (1.0, 1.0)        (1.0, 1.0)   \n",
       "1    RF        (1.0, 1.0)        (1.0, 1.0)        (1.0, 1.0)   \n",
       "2   KNN        (1.0, 1.0)        (1.0, 1.0)        (1.0, 1.0)   \n",
       "\n",
       "  (train_f1, test_f1)  \n",
       "0          (1.0, 1.0)  \n",
       "1          (1.0, 1.0)  \n",
       "2          (1.0, 1.0)  "
      ]
     },
     "execution_count": 42,
     "metadata": {},
     "output_type": "execute_result"
    }
   ],
   "source": [
    "experiments"
   ]
  },
  {
   "cell_type": "markdown",
   "id": "c6ba36c0",
   "metadata": {},
   "source": [
    "KNN is able to record perfect scores as well. "
   ]
  },
  {
   "cell_type": "markdown",
   "id": "335a1de6",
   "metadata": {},
   "source": [
    "### d) Decision Trees"
   ]
  },
  {
   "cell_type": "code",
   "execution_count": 43,
   "id": "84a83e97",
   "metadata": {},
   "outputs": [],
   "source": [
    "grid = GridSearchCV(estimator = DecisionTreeClassifier(),\n",
    "                    param_grid = {'max_depth': [3, 5, 7, 10],\n",
    "                                  'min_samples_split': [5, 10, 15, 20],\n",
    "                                  'min_samples_leaf': [2, 3, 4, 5, 6, 7]},\n",
    "                    cv = 5,\n",
    "                    refit = True,\n",
    "                    verbose = 1,\n",
    "                    scoring = 'recall')"
   ]
  },
  {
   "cell_type": "code",
   "execution_count": 44,
   "id": "8bcf6414",
   "metadata": {},
   "outputs": [
    {
     "name": "stdout",
     "output_type": "stream",
     "text": [
      "Fitting 5 folds for each of 96 candidates, totalling 480 fits\n"
     ]
    },
    {
     "data": {
      "text/plain": [
       "GridSearchCV(cv=5, estimator=DecisionTreeClassifier(),\n",
       "             param_grid={'max_depth': [3, 5, 7, 10],\n",
       "                         'min_samples_leaf': [2, 3, 4, 5, 6, 7],\n",
       "                         'min_samples_split': [5, 10, 15, 20]},\n",
       "             scoring='recall', verbose=1)"
      ]
     },
     "execution_count": 44,
     "metadata": {},
     "output_type": "execute_result"
    }
   ],
   "source": [
    "grid.fit(X_train, y_train)"
   ]
  },
  {
   "cell_type": "code",
   "execution_count": 45,
   "id": "56b89dbc",
   "metadata": {},
   "outputs": [
    {
     "data": {
      "text/plain": [
       "{'max_depth': 3, 'min_samples_leaf': 2, 'min_samples_split': 5}"
      ]
     },
     "execution_count": 45,
     "metadata": {},
     "output_type": "execute_result"
    }
   ],
   "source": [
    "grid.best_params_"
   ]
  },
  {
   "cell_type": "code",
   "execution_count": 46,
   "id": "a3b13c4d",
   "metadata": {},
   "outputs": [],
   "source": [
    "dt = DecisionTreeClassifier(max_depth=7, min_samples_leaf=3, min_samples_split=5)\n",
    "results_DT = run_model(dt, mushrooms, columns)"
   ]
  },
  {
   "cell_type": "code",
   "execution_count": 47,
   "id": "81c765fd",
   "metadata": {},
   "outputs": [],
   "source": [
    "save_results(results_DT,experiments,'DT')"
   ]
  },
  {
   "cell_type": "code",
   "execution_count": 48,
   "id": "f3327c6e",
   "metadata": {},
   "outputs": [
    {
     "data": {
      "text/html": [
       "<div>\n",
       "<style scoped>\n",
       "    .dataframe tbody tr th:only-of-type {\n",
       "        vertical-align: middle;\n",
       "    }\n",
       "\n",
       "    .dataframe tbody tr th {\n",
       "        vertical-align: top;\n",
       "    }\n",
       "\n",
       "    .dataframe thead th {\n",
       "        text-align: right;\n",
       "    }\n",
       "</style>\n",
       "<table border=\"1\" class=\"dataframe\">\n",
       "  <thead>\n",
       "    <tr style=\"text-align: right;\">\n",
       "      <th></th>\n",
       "      <th>model</th>\n",
       "      <th>(train_a, test_a)</th>\n",
       "      <th>(train_r, test_r)</th>\n",
       "      <th>(train_p, test_p)</th>\n",
       "      <th>(train_f1, test_f1)</th>\n",
       "    </tr>\n",
       "  </thead>\n",
       "  <tbody>\n",
       "    <tr>\n",
       "      <th>0</th>\n",
       "      <td>SVM</td>\n",
       "      <td>(1.0, 1.0)</td>\n",
       "      <td>(1.0, 1.0)</td>\n",
       "      <td>(1.0, 1.0)</td>\n",
       "      <td>(1.0, 1.0)</td>\n",
       "    </tr>\n",
       "    <tr>\n",
       "      <th>1</th>\n",
       "      <td>RF</td>\n",
       "      <td>(1.0, 1.0)</td>\n",
       "      <td>(1.0, 1.0)</td>\n",
       "      <td>(1.0, 1.0)</td>\n",
       "      <td>(1.0, 1.0)</td>\n",
       "    </tr>\n",
       "    <tr>\n",
       "      <th>2</th>\n",
       "      <td>KNN</td>\n",
       "      <td>(1.0, 1.0)</td>\n",
       "      <td>(1.0, 1.0)</td>\n",
       "      <td>(1.0, 1.0)</td>\n",
       "      <td>(1.0, 1.0)</td>\n",
       "    </tr>\n",
       "    <tr>\n",
       "      <th>3</th>\n",
       "      <td>DT</td>\n",
       "      <td>(1.0, 1.0)</td>\n",
       "      <td>(1.0, 1.0)</td>\n",
       "      <td>(1.0, 1.0)</td>\n",
       "      <td>(1.0, 1.0)</td>\n",
       "    </tr>\n",
       "  </tbody>\n",
       "</table>\n",
       "</div>"
      ],
      "text/plain": [
       "  model (train_a, test_a) (train_r, test_r) (train_p, test_p)  \\\n",
       "0   SVM        (1.0, 1.0)        (1.0, 1.0)        (1.0, 1.0)   \n",
       "1    RF        (1.0, 1.0)        (1.0, 1.0)        (1.0, 1.0)   \n",
       "2   KNN        (1.0, 1.0)        (1.0, 1.0)        (1.0, 1.0)   \n",
       "3    DT        (1.0, 1.0)        (1.0, 1.0)        (1.0, 1.0)   \n",
       "\n",
       "  (train_f1, test_f1)  \n",
       "0          (1.0, 1.0)  \n",
       "1          (1.0, 1.0)  \n",
       "2          (1.0, 1.0)  \n",
       "3          (1.0, 1.0)  "
      ]
     },
     "execution_count": 48,
     "metadata": {},
     "output_type": "execute_result"
    }
   ],
   "source": [
    "experiments"
   ]
  },
  {
   "cell_type": "markdown",
   "id": "751bc369",
   "metadata": {},
   "source": [
    "## (3) Feature Reduction"
   ]
  },
  {
   "cell_type": "markdown",
   "id": "26376938",
   "metadata": {},
   "source": [
    "From looking at the dataframe containing all the results above, we can see that all models were able to achieve perfect scores. Now the next focus is to try and minimize the required features to be included to achieve these results. This is done mainly for practical reasons since at the moment the model uses 83 features, which is an unreasonable number of variables that someone would have to check to determine whether a mushroom is poisonous or not. To accomplish this we will use the DT model since it is a faster model compared to the other 3 and run the permutation_importance function to compare the importance between all features. "
   ]
  },
  {
   "cell_type": "code",
   "execution_count": 49,
   "id": "1a5cae3a",
   "metadata": {},
   "outputs": [],
   "source": [
    "#the DT model must be fitted first so that we can use permutation_importance function\n",
    "dt = DecisionTreeClassifier(max_depth=7, min_samples_leaf=3, min_samples_split=5)\n",
    "results_DT = run_model(dt, mushrooms, columns)\n",
    "\n",
    "r = permutation_importance(dt, X_train, y_train, n_repeats=50, random_state=0)\n",
    "permutation = pd.DataFrame(columns=['Average_Importance'], index=list(X_train.columns))\n",
    "permutation['Average_Importance'] = r.importances_mean"
   ]
  },
  {
   "cell_type": "markdown",
   "id": "2dc88c00",
   "metadata": {},
   "source": [
    "Once the average importance value is recorded for each feature, we need to choose only features of an importance of greater than 1, as these are the only features that impact the model, while the rest are redundant. As we can see in the dataframe below, there are only 6 significant features, with the most important being no odor!  "
   ]
  },
  {
   "cell_type": "code",
   "execution_count": 50,
   "id": "f4a7a5e3",
   "metadata": {},
   "outputs": [],
   "source": [
    "perm_new = permutation[permutation['Average_Importance']>0].reset_index().sort_values('Average_Importance', ascending = False)\n",
    "perm_new.rename(columns={'index':'Features'},inplace = True)"
   ]
  },
  {
   "cell_type": "code",
   "execution_count": 51,
   "id": "33b847d9",
   "metadata": {},
   "outputs": [
    {
     "data": {
      "text/html": [
       "<div>\n",
       "<style scoped>\n",
       "    .dataframe tbody tr th:only-of-type {\n",
       "        vertical-align: middle;\n",
       "    }\n",
       "\n",
       "    .dataframe tbody tr th {\n",
       "        vertical-align: top;\n",
       "    }\n",
       "\n",
       "    .dataframe thead th {\n",
       "        text-align: right;\n",
       "    }\n",
       "</style>\n",
       "<table border=\"1\" class=\"dataframe\">\n",
       "  <thead>\n",
       "    <tr style=\"text-align: right;\">\n",
       "      <th></th>\n",
       "      <th>Features</th>\n",
       "      <th>Average_Importance</th>\n",
       "    </tr>\n",
       "  </thead>\n",
       "  <tbody>\n",
       "    <tr>\n",
       "      <th>2</th>\n",
       "      <td>odor_n</td>\n",
       "      <td>0.446260</td>\n",
       "    </tr>\n",
       "    <tr>\n",
       "      <th>3</th>\n",
       "      <td>stalk_root_c</td>\n",
       "      <td>0.035858</td>\n",
       "    </tr>\n",
       "    <tr>\n",
       "      <th>1</th>\n",
       "      <td>odor_l</td>\n",
       "      <td>0.028773</td>\n",
       "    </tr>\n",
       "    <tr>\n",
       "      <th>0</th>\n",
       "      <td>odor_a</td>\n",
       "      <td>0.028207</td>\n",
       "    </tr>\n",
       "    <tr>\n",
       "      <th>4</th>\n",
       "      <td>stalk_surface_below_ring_y</td>\n",
       "      <td>0.026597</td>\n",
       "    </tr>\n",
       "  </tbody>\n",
       "</table>\n",
       "</div>"
      ],
      "text/plain": [
       "                     Features  Average_Importance\n",
       "2                      odor_n            0.446260\n",
       "3                stalk_root_c            0.035858\n",
       "1                      odor_l            0.028773\n",
       "0                      odor_a            0.028207\n",
       "4  stalk_surface_below_ring_y            0.026597"
      ]
     },
     "execution_count": 51,
     "metadata": {},
     "output_type": "execute_result"
    }
   ],
   "source": [
    "perm_new"
   ]
  },
  {
   "cell_type": "code",
   "execution_count": 52,
   "id": "8d47c2b9",
   "metadata": {},
   "outputs": [
    {
     "data": {
      "image/png": "[encoded data removed]",
      "text/plain": [
       "<Figure size 864x432 with 1 Axes>"
      ]
     },
     "metadata": {},
     "output_type": "display_data"
    }
   ],
   "source": [
    "plt.figure(figsize=(12,6))\n",
    "pl=sns.barplot(data = perm_new, x='Average_Importance', y='Features', orient = 'h' ,palette='mako', linewidth=1, edgecolor=\".01\")\n",
    "plt.xticks(horizontalalignment='center')\n",
    "plt.yticks(horizontalalignment='right')\n",
    "plt.title('Most Important Features')\n",
    "plt.xlabel('Importance Value')\n",
    "plt.ylabel('Feature')\n",
    "plt.grid()\n",
    "plt.show()"
   ]
  },
  {
   "cell_type": "markdown",
   "id": "2825d166",
   "metadata": {},
   "source": [
    "The above barchart summarises the relation between the most important features. Knowing that these are the features needed to achieve best results, we can try running the DT model, with decreasing number of features in order of priority to find what is the minimum number of features required to achieve perfect results. The statistics are going to be saved in the `dt_important_features` dataframe.  "
   ]
  },
  {
   "cell_type": "code",
   "execution_count": 53,
   "id": "b2b6ae8a",
   "metadata": {},
   "outputs": [],
   "source": [
    "dt_important_features = pd.DataFrame(columns=['Number of Features',('train_a','test_a'),('train_r','test_r'),('train_p','test_p'),('train_f1','test_f1')])"
   ]
  },
  {
   "cell_type": "code",
   "execution_count": 54,
   "id": "cc929cf6",
   "metadata": {},
   "outputs": [],
   "source": [
    "dt = DecisionTreeClassifier(max_depth=7, min_samples_leaf=3, min_samples_split=5)\n",
    "results_DT = run_model(dt, mushrooms, columns)\n",
    "save_results(results_DT,dt_important_features,'All')"
   ]
  },
  {
   "cell_type": "code",
   "execution_count": 55,
   "id": "8b263f9c",
   "metadata": {},
   "outputs": [],
   "source": [
    "columns_imp = list(perm_new['Features'])\n",
    "for c in range(0,len(columns_imp)):\n",
    "    dt = DecisionTreeClassifier(max_depth=7, min_samples_leaf=3, min_samples_split=5)\n",
    "    results_DT = run_model(dt, mushrooms, columns_imp[0:len(columns_imp)-c],after_OHE = True)\n",
    "    save_results(results_DT,dt_important_features,f'{len(columns_imp)-c}')"
   ]
  },
  {
   "cell_type": "code",
   "execution_count": 56,
   "id": "85094fe7",
   "metadata": {},
   "outputs": [
    {
     "data": {
      "text/html": [
       "<div>\n",
       "<style scoped>\n",
       "    .dataframe tbody tr th:only-of-type {\n",
       "        vertical-align: middle;\n",
       "    }\n",
       "\n",
       "    .dataframe tbody tr th {\n",
       "        vertical-align: top;\n",
       "    }\n",
       "\n",
       "    .dataframe thead th {\n",
       "        text-align: right;\n",
       "    }\n",
       "</style>\n",
       "<table border=\"1\" class=\"dataframe\">\n",
       "  <thead>\n",
       "    <tr style=\"text-align: right;\">\n",
       "      <th></th>\n",
       "      <th>Number of Features</th>\n",
       "      <th>(train_a, test_a)</th>\n",
       "      <th>(train_r, test_r)</th>\n",
       "      <th>(train_p, test_p)</th>\n",
       "      <th>(train_f1, test_f1)</th>\n",
       "    </tr>\n",
       "  </thead>\n",
       "  <tbody>\n",
       "    <tr>\n",
       "      <th>0</th>\n",
       "      <td>All</td>\n",
       "      <td>(1.0, 1.0)</td>\n",
       "      <td>(1.0, 1.0)</td>\n",
       "      <td>(1.0, 1.0)</td>\n",
       "      <td>(1.0, 1.0)</td>\n",
       "    </tr>\n",
       "    <tr>\n",
       "      <th>1</th>\n",
       "      <td>5</td>\n",
       "      <td>(1.0, 1.0)</td>\n",
       "      <td>(1.0, 1.0)</td>\n",
       "      <td>(1.0, 1.0)</td>\n",
       "      <td>(1.0, 1.0)</td>\n",
       "    </tr>\n",
       "    <tr>\n",
       "      <th>2</th>\n",
       "      <td>4</td>\n",
       "      <td>(0.9976427007913791, 0.9986531986531987)</td>\n",
       "      <td>(0.9953657729228732, 0.9973509933774835)</td>\n",
       "      <td>(1.0, 1.0)</td>\n",
       "      <td>(0.997677504976775, 0.9986737400530504)</td>\n",
       "    </tr>\n",
       "    <tr>\n",
       "      <th>3</th>\n",
       "      <td>3</td>\n",
       "      <td>(0.9828253914800471, 0.9771043771043771)</td>\n",
       "      <td>(0.9953657729228732, 0.9973509933774835)</td>\n",
       "      <td>(0.9715670436187399, 0.9592356687898089)</td>\n",
       "      <td>(0.9833224329627207, 0.9779220779220781)</td>\n",
       "    </tr>\n",
       "    <tr>\n",
       "      <th>4</th>\n",
       "      <td>2</td>\n",
       "      <td>(0.9669978110793063, 0.9595959595959596)</td>\n",
       "      <td>(0.9953657729228732, 0.9973509933774835)</td>\n",
       "      <td>(0.9429288178112261, 0.9284833538840938)</td>\n",
       "      <td>(0.9684380032206118, 0.9616858237547893)</td>\n",
       "    </tr>\n",
       "    <tr>\n",
       "      <th>5</th>\n",
       "      <td>1</td>\n",
       "      <td>(0.8957736992759724, 0.8996632996632996)</td>\n",
       "      <td>(0.9953657729228732, 0.9973509933774835)</td>\n",
       "      <td>(0.8325027685492802, 0.8366666666666667)</td>\n",
       "      <td>(0.90667872757425, 0.9099697885196374)</td>\n",
       "    </tr>\n",
       "  </tbody>\n",
       "</table>\n",
       "</div>"
      ],
      "text/plain": [
       "  Number of Features                         (train_a, test_a)  \\\n",
       "0                All                                (1.0, 1.0)   \n",
       "1                  5                                (1.0, 1.0)   \n",
       "2                  4  (0.9976427007913791, 0.9986531986531987)   \n",
       "3                  3  (0.9828253914800471, 0.9771043771043771)   \n",
       "4                  2  (0.9669978110793063, 0.9595959595959596)   \n",
       "5                  1  (0.8957736992759724, 0.8996632996632996)   \n",
       "\n",
       "                          (train_r, test_r)  \\\n",
       "0                                (1.0, 1.0)   \n",
       "1                                (1.0, 1.0)   \n",
       "2  (0.9953657729228732, 0.9973509933774835)   \n",
       "3  (0.9953657729228732, 0.9973509933774835)   \n",
       "4  (0.9953657729228732, 0.9973509933774835)   \n",
       "5  (0.9953657729228732, 0.9973509933774835)   \n",
       "\n",
       "                          (train_p, test_p)  \\\n",
       "0                                (1.0, 1.0)   \n",
       "1                                (1.0, 1.0)   \n",
       "2                                (1.0, 1.0)   \n",
       "3  (0.9715670436187399, 0.9592356687898089)   \n",
       "4  (0.9429288178112261, 0.9284833538840938)   \n",
       "5  (0.8325027685492802, 0.8366666666666667)   \n",
       "\n",
       "                        (train_f1, test_f1)  \n",
       "0                                (1.0, 1.0)  \n",
       "1                                (1.0, 1.0)  \n",
       "2   (0.997677504976775, 0.9986737400530504)  \n",
       "3  (0.9833224329627207, 0.9779220779220781)  \n",
       "4  (0.9684380032206118, 0.9616858237547893)  \n",
       "5    (0.90667872757425, 0.9099697885196374)  "
      ]
     },
     "execution_count": 56,
     "metadata": {},
     "output_type": "execute_result"
    }
   ],
   "source": [
    "dt_important_features"
   ]
  },
  {
   "cell_type": "markdown",
   "id": "e9a4c97f",
   "metadata": {},
   "source": [
    "Perfect scores can be achieved with 5 features which is a reasonable number to use."
   ]
  },
  {
   "cell_type": "code",
   "execution_count": 57,
   "id": "0c661751",
   "metadata": {},
   "outputs": [],
   "source": [
    "final_columns = columns_imp[0:len(columns_imp)]\n",
    "results_DT = run_model(dt, mushrooms, final_columns, after_OHE = True)\n",
    "save_results(results_DT,experiments,'DT - 5 features')"
   ]
  },
  {
   "cell_type": "markdown",
   "id": "fc2f508e",
   "metadata": {},
   "source": [
    "Our best models can be summarised in the following dataframe."
   ]
  },
  {
   "cell_type": "code",
   "execution_count": 58,
   "id": "5c874c4c",
   "metadata": {},
   "outputs": [
    {
     "data": {
      "text/html": [
       "<div>\n",
       "<style scoped>\n",
       "    .dataframe tbody tr th:only-of-type {\n",
       "        vertical-align: middle;\n",
       "    }\n",
       "\n",
       "    .dataframe tbody tr th {\n",
       "        vertical-align: top;\n",
       "    }\n",
       "\n",
       "    .dataframe thead th {\n",
       "        text-align: right;\n",
       "    }\n",
       "</style>\n",
       "<table border=\"1\" class=\"dataframe\">\n",
       "  <thead>\n",
       "    <tr style=\"text-align: right;\">\n",
       "      <th></th>\n",
       "      <th>model</th>\n",
       "      <th>(train_a, test_a)</th>\n",
       "      <th>(train_r, test_r)</th>\n",
       "      <th>(train_p, test_p)</th>\n",
       "      <th>(train_f1, test_f1)</th>\n",
       "    </tr>\n",
       "  </thead>\n",
       "  <tbody>\n",
       "    <tr>\n",
       "      <th>0</th>\n",
       "      <td>SVM</td>\n",
       "      <td>(1.0, 1.0)</td>\n",
       "      <td>(1.0, 1.0)</td>\n",
       "      <td>(1.0, 1.0)</td>\n",
       "      <td>(1.0, 1.0)</td>\n",
       "    </tr>\n",
       "    <tr>\n",
       "      <th>1</th>\n",
       "      <td>RF</td>\n",
       "      <td>(1.0, 1.0)</td>\n",
       "      <td>(1.0, 1.0)</td>\n",
       "      <td>(1.0, 1.0)</td>\n",
       "      <td>(1.0, 1.0)</td>\n",
       "    </tr>\n",
       "    <tr>\n",
       "      <th>2</th>\n",
       "      <td>KNN</td>\n",
       "      <td>(1.0, 1.0)</td>\n",
       "      <td>(1.0, 1.0)</td>\n",
       "      <td>(1.0, 1.0)</td>\n",
       "      <td>(1.0, 1.0)</td>\n",
       "    </tr>\n",
       "    <tr>\n",
       "      <th>3</th>\n",
       "      <td>DT</td>\n",
       "      <td>(1.0, 1.0)</td>\n",
       "      <td>(1.0, 1.0)</td>\n",
       "      <td>(1.0, 1.0)</td>\n",
       "      <td>(1.0, 1.0)</td>\n",
       "    </tr>\n",
       "    <tr>\n",
       "      <th>4</th>\n",
       "      <td>DT - 5 features</td>\n",
       "      <td>(1.0, 1.0)</td>\n",
       "      <td>(1.0, 1.0)</td>\n",
       "      <td>(1.0, 1.0)</td>\n",
       "      <td>(1.0, 1.0)</td>\n",
       "    </tr>\n",
       "  </tbody>\n",
       "</table>\n",
       "</div>"
      ],
      "text/plain": [
       "             model (train_a, test_a) (train_r, test_r) (train_p, test_p)  \\\n",
       "0              SVM        (1.0, 1.0)        (1.0, 1.0)        (1.0, 1.0)   \n",
       "1               RF        (1.0, 1.0)        (1.0, 1.0)        (1.0, 1.0)   \n",
       "2              KNN        (1.0, 1.0)        (1.0, 1.0)        (1.0, 1.0)   \n",
       "3               DT        (1.0, 1.0)        (1.0, 1.0)        (1.0, 1.0)   \n",
       "4  DT - 5 features        (1.0, 1.0)        (1.0, 1.0)        (1.0, 1.0)   \n",
       "\n",
       "  (train_f1, test_f1)  \n",
       "0          (1.0, 1.0)  \n",
       "1          (1.0, 1.0)  \n",
       "2          (1.0, 1.0)  \n",
       "3          (1.0, 1.0)  \n",
       "4          (1.0, 1.0)  "
      ]
     },
     "execution_count": 58,
     "metadata": {},
     "output_type": "execute_result"
    }
   ],
   "source": [
    "experiments"
   ]
  },
  {
   "cell_type": "markdown",
   "id": "25412a02",
   "metadata": {},
   "source": [
    "Taking everything into consideration the best results can be achieved using \n",
    "\n",
    "`run_model(dt, mushrooms, final_columns, after_OHE = True)`\n",
    "\n",
    "where final columns includes the following 5 features."
   ]
  },
  {
   "cell_type": "code",
   "execution_count": 59,
   "id": "8c20d206",
   "metadata": {},
   "outputs": [
    {
     "data": {
      "text/plain": [
       "['odor_n', 'stalk_root_c', 'odor_l', 'odor_a', 'stalk_surface_below_ring_y']"
      ]
     },
     "execution_count": 59,
     "metadata": {},
     "output_type": "execute_result"
    }
   ],
   "source": [
    "final_columns"
   ]
  },
  {
   "cell_type": "markdown",
   "id": "d5a47ab9",
   "metadata": {},
   "source": [
    "The performance of our model can be visualised below using a confusion matrix that clearly indicates that there are 0 False Negative predictions, and the ROC curve which has an area of exactly 1 indicating that the model is perfect."
   ]
  },
  {
   "cell_type": "code",
   "execution_count": 60,
   "id": "63b78bcd",
   "metadata": {},
   "outputs": [
    {
     "data": {
      "image/png": "[encoded data removed]",
      "text/plain": [
       "<Figure size 432x288 with 2 Axes>"
      ]
     },
     "metadata": {},
     "output_type": "display_data"
    }
   ],
   "source": [
    "results_DT = run_model(dt, mushrooms, final_columns, after_OHE = True)\n",
    "produce_confusion(results_DT[0],results_DT[1],'Edible','Poisonous')"
   ]
  },
  {
   "cell_type": "code",
   "execution_count": 61,
   "id": "6c0d3502",
   "metadata": {},
   "outputs": [
    {
     "data": {
      "image/png": "[encoded data removed]",
      "text/plain": [
       "<Figure size 432x288 with 1 Axes>"
      ]
     },
     "metadata": {},
     "output_type": "display_data"
    }
   ],
   "source": [
    "logit_roc_auc = roc_auc_score(results_DT[0], results_DT[1])\n",
    "fpr, tpr, thresholds = roc_curve(results_DT[0], results_DT[1])\n",
    "plt.figure()\n",
    "plt.plot(fpr, tpr, label='Logistic Regression (area = %0.2f)' % logit_roc_auc, color='pink')\n",
    "plt.plot([0, 1], [0, 1],'c--')\n",
    "plt.xlabel('False Positive Rate')\n",
    "plt.ylabel('True Positive Rate')\n",
    "plt.title('Receiver operating characteristic')\n",
    "plt.legend(loc=\"lower right\")\n",
    "plt.show()"
   ]
  },
  {
   "cell_type": "markdown",
   "id": "c2811d5e",
   "metadata": {},
   "source": [
    "## (4) Productionising"
   ]
  },
  {
   "cell_type": "markdown",
   "id": "a599c39f",
   "metadata": {},
   "source": [
    "Using this perfect model we have achieved our goal of making a model that accurately predicts whether a mushroom is poisonous or not and we have managed to do that using only 5 features. The final step is to make a user-friendly function that will give this prediction. "
   ]
  },
  {
   "cell_type": "code",
   "execution_count": 62,
   "id": "72c45989",
   "metadata": {},
   "outputs": [],
   "source": [
    "#saving the resulting model\n",
    "dt = DecisionTreeClassifier(max_depth=7, min_samples_leaf=3, min_samples_split=5)\n",
    "results_DT = run_model(dt, mushrooms, final_columns, after_OHE = True)\n",
    "final_model = results_DT[4]"
   ]
  },
  {
   "cell_type": "code",
   "execution_count": 63,
   "id": "9cabe4c9",
   "metadata": {},
   "outputs": [],
   "source": [
    "def mushroom_check():\n",
    "    \n",
    "    #first create a dataframe that contains the mushroom features\n",
    "    features = pd.DataFrame(columns=final_columns)\n",
    "    features.loc[len(features)] = 0\n",
    "    \n",
    "    odor = input('What is the odor of the mushroom? (Available options are none, l_anise, almond, unknown) ' )\n",
    "    odor = odor.lower()\n",
    "    if odor in ['none','l_anise','almond']:\n",
    "        features['odor'+'_'+odor[0]] = 1\n",
    "    elif odor == 'unknown':\n",
    "        pass\n",
    "    else:\n",
    "        return 'Please write only one of the available options'\n",
    "    \n",
    "    stalk_surface_below_ring = input('How is the stalk surface below the ring of the mushroom? (Available options are y_scaly or unknown) ' )\n",
    "    if stalk_surface_below_ring not in ['y_scaly','unknown']:\n",
    "        return 'Please write only one of the available options'\n",
    "    if stalk_surface_below_ring == 'y_scaly':\n",
    "        features['stalk_surface_below_ring'+'_'+stalk_surface_below_ring[0]] = 1    \n",
    "    \n",
    "    stalk_root = input('What is the stalk root of the mushroom? (Available options are club or unknown) ' )\n",
    "    if stalk_root not in ['club','unknown']:\n",
    "        return 'Please write only one of the available options'\n",
    "    if stalk_root == 'club':\n",
    "        features['stalk_root'+'_'+stalk_root[0]] = 1 \n",
    "    \n",
    "    prediction = final_model.predict(features)\n",
    "    \n",
    "    if prediction[0] == 0:\n",
    "        return 'This is safe to eat'\n",
    "    else:\n",
    "        return 'This is poisonous!!'"
   ]
  },
  {
   "cell_type": "markdown",
   "id": "96d647c6",
   "metadata": {},
   "source": [
    "We can now check the final function by using 2 known test cases and comparing the result. We can review the train data to check some examples."
   ]
  },
  {
   "cell_type": "code",
   "execution_count": 64,
   "id": "7e9102f2",
   "metadata": {},
   "outputs": [
    {
     "data": {
      "text/html": [
       "<div>\n",
       "<style scoped>\n",
       "    .dataframe tbody tr th:only-of-type {\n",
       "        vertical-align: middle;\n",
       "    }\n",
       "\n",
       "    .dataframe tbody tr th {\n",
       "        vertical-align: top;\n",
       "    }\n",
       "\n",
       "    .dataframe thead th {\n",
       "        text-align: right;\n",
       "    }\n",
       "</style>\n",
       "<table border=\"1\" class=\"dataframe\">\n",
       "  <thead>\n",
       "    <tr style=\"text-align: right;\">\n",
       "      <th></th>\n",
       "      <th>odor_n</th>\n",
       "      <th>stalk_root_c</th>\n",
       "      <th>odor_l</th>\n",
       "      <th>odor_a</th>\n",
       "      <th>stalk_surface_below_ring_y</th>\n",
       "      <th>class</th>\n",
       "    </tr>\n",
       "  </thead>\n",
       "  <tbody>\n",
       "    <tr>\n",
       "      <th>5739</th>\n",
       "      <td>0</td>\n",
       "      <td>0</td>\n",
       "      <td>0</td>\n",
       "      <td>0</td>\n",
       "      <td>0</td>\n",
       "      <td>1</td>\n",
       "    </tr>\n",
       "    <tr>\n",
       "      <th>3607</th>\n",
       "      <td>0</td>\n",
       "      <td>0</td>\n",
       "      <td>0</td>\n",
       "      <td>0</td>\n",
       "      <td>0</td>\n",
       "      <td>1</td>\n",
       "    </tr>\n",
       "    <tr>\n",
       "      <th>6033</th>\n",
       "      <td>0</td>\n",
       "      <td>0</td>\n",
       "      <td>0</td>\n",
       "      <td>0</td>\n",
       "      <td>0</td>\n",
       "      <td>1</td>\n",
       "    </tr>\n",
       "    <tr>\n",
       "      <th>3849</th>\n",
       "      <td>1</td>\n",
       "      <td>0</td>\n",
       "      <td>0</td>\n",
       "      <td>0</td>\n",
       "      <td>0</td>\n",
       "      <td>0</td>\n",
       "    </tr>\n",
       "    <tr>\n",
       "      <th>451</th>\n",
       "      <td>0</td>\n",
       "      <td>1</td>\n",
       "      <td>1</td>\n",
       "      <td>0</td>\n",
       "      <td>0</td>\n",
       "      <td>0</td>\n",
       "    </tr>\n",
       "  </tbody>\n",
       "</table>\n",
       "</div>"
      ],
      "text/plain": [
       "      odor_n  stalk_root_c  odor_l  odor_a  stalk_surface_below_ring_y  class\n",
       "5739       0             0       0       0                           0      1\n",
       "3607       0             0       0       0                           0      1\n",
       "6033       0             0       0       0                           0      1\n",
       "3849       1             0       0       0                           0      0\n",
       "451        0             1       1       0                           0      0"
      ]
     },
     "execution_count": 64,
     "metadata": {},
     "output_type": "execute_result"
    }
   ],
   "source": [
    "vis = run_model(dt, mushrooms, final_columns, premodel = True, after_OHE = True)\n",
    "pd.concat([vis[0],vis[2]],axis=1).head(5)"
   ]
  },
  {
   "cell_type": "code",
   "execution_count": 65,
   "id": "98650c70",
   "metadata": {},
   "outputs": [
    {
     "name": "stdout",
     "output_type": "stream",
     "text": [
      "What is the odor of the mushroom? (Available options are none, l_anise, almond, unknown) unknown\n",
      "How is the stalk surface below the ring of the mushroom? (Available options are y_scaly or unknown) unknown\n",
      "What is the stalk root of the mushroom? (Available options are club or unknown) unknown\n"
     ]
    },
    {
     "data": {
      "text/plain": [
       "'This is poisonous!!'"
      ]
     },
     "execution_count": 65,
     "metadata": {},
     "output_type": "execute_result"
    }
   ],
   "source": [
    "mushroom_check()"
   ]
  },
  {
   "cell_type": "code",
   "execution_count": 66,
   "id": "368798f9",
   "metadata": {},
   "outputs": [
    {
     "name": "stdout",
     "output_type": "stream",
     "text": [
      "What is the odor of the mushroom? (Available options are none, l_anise, almond, unknown) none\n",
      "How is the stalk surface below the ring of the mushroom? (Available options are y_scaly or unknown) unknown\n",
      "What is the stalk root of the mushroom? (Available options are club or unknown) unknown\n"
     ]
    },
    {
     "data": {
      "text/plain": [
       "'This is safe to eat'"
      ]
     },
     "execution_count": 66,
     "metadata": {},
     "output_type": "execute_result"
    }
   ],
   "source": [
    "mushroom_check()"
   ]
  },
  {
   "cell_type": "markdown",
   "id": "ef0eb2d1",
   "metadata": {},
   "source": [
    "Our final function works as expected by answering only 3 simple questions! So next time you go out in the wild, make sure to take with you a Notebook supporting device cause it might be a matter of life or death..."
   ]
  }
 ],
 "metadata": {
  "kernelspec": {
   "display_name": "Python 3 (ipykernel)",
   "language": "python",
   "name": "python3"
  },
  "language_info": {
   "codemirror_mode": {
    "name": "ipython",
    "version": 3
   },
   "file_extension": ".py",
   "mimetype": "text/x-python",
   "name": "python",
   "nbconvert_exporter": "python",
   "pygments_lexer": "ipython3",
   "version": "3.9.7"
  }
 },
 "nbformat": 4,
 "nbformat_minor": 5
}
